{
  "cells": [
    {
      "cell_type": "markdown",
      "metadata": {
        "id": "view-in-github",
        "colab_type": "text"
      },
      "source": [
        "<a href=\"https://colab.research.google.com/github/geraldnilton/Trabajo_final/blob/main/modulo_2.ipynb\" target=\"_parent\"><img src=\"https://colab.research.google.com/assets/colab-badge.svg\" alt=\"Open In Colab\"/></a>"
      ]
    },
    {
      "cell_type": "markdown",
      "metadata": {
        "id": "qCg1zV0_DK0j"
      },
      "source": [
        "<img src=\"https://www.ctic.uni.edu.pe/wp-content/uploads/2022/04/588px-x-348px-web-1.png\" alt=\"HTML5 Icon\" width=\"900\" height=\"350\" >\n"
      ]
    },
    {
      "cell_type": "markdown",
      "metadata": {
        "id": "XJ-qSpecBnPA"
      },
      "source": [
        "<h1 align=center><font size = 5>UNIDAD II - ESTRUCTURAS SELECTIVAS Y REPETITIVAS\n",
        "</font></h1>\n",
        "\n",
        "---"
      ]
    },
    {
      "cell_type": "markdown",
      "metadata": {
        "id": "-METXVBCB-AX"
      },
      "source": [
        "## Tabla de Contenidos\n",
        "\n",
        "<div class=\"alert alert-block alert-info\" style=\"margin-top: 20px\">\n",
        "\n",
        "<font size = 3>\n",
        "    \n",
        "1. <a href=\"#item31\">Introducción al entorno Python</a>  \n",
        "2. <a href=\"#item31\">Sentencias IF</a>  \n",
        "3. <a href=\"#item31\">Sentencias While</a>  \n",
        "4. <a href=\"#item31\">Sentencias For</a>  \n",
        "\n",
        "</font>\n",
        "</div>\n",
        "\n",
        "---"
      ]
    },
    {
      "cell_type": "markdown",
      "metadata": {
        "id": "32lFkXesCLmU"
      },
      "source": [
        "#1. Introducción al entorno Python"
      ]
    },
    {
      "cell_type": "markdown",
      "metadata": {
        "id": "SdnlyoStB_pK"
      },
      "source": [
        "### Verificando la versión de Python"
      ]
    },
    {
      "cell_type": "code",
      "execution_count": null,
      "metadata": {
        "colab": {
          "background_save": true
        },
        "id": "xFe_fHtsApoC"
      },
      "outputs": [],
      "source": [
        "!python3"
      ]
    },
    {
      "cell_type": "markdown",
      "metadata": {
        "id": "t1iB2a_1A_Nd"
      },
      "source": [
        "### Ejecutando en Python"
      ]
    },
    {
      "cell_type": "code",
      "execution_count": null,
      "metadata": {
        "id": "_GUyponPAi_Z"
      },
      "outputs": [],
      "source": [
        "print(\"hola clase en python!\")"
      ]
    },
    {
      "cell_type": "markdown",
      "metadata": {
        "id": "sthjyiw1BYm4"
      },
      "source": [
        "### Variables en Python"
      ]
    },
    {
      "cell_type": "code",
      "execution_count": null,
      "metadata": {
        "id": "mGbrzOEtBa7g"
      },
      "outputs": [],
      "source": [
        "message = \"Hello Python world!\"\n",
        "print(message)"
      ]
    },
    {
      "cell_type": "markdown",
      "metadata": {
        "id": "67A0ZgROBH2G"
      },
      "source": [
        "### Usando variables con strings"
      ]
    },
    {
      "cell_type": "code",
      "execution_count": null,
      "metadata": {
        "id": "imkWRD_NGhM7"
      },
      "outputs": [],
      "source": [
        "first_name = \"John\"\n",
        "last_name = \"Caballero\"\n",
        "\n",
        "full_name = f\"{first_name} {last_name}\"\n",
        "print(full_name)\n"
      ]
    },
    {
      "cell_type": "code",
      "execution_count": null,
      "metadata": {
        "id": "ldadfir2G-ee"
      },
      "outputs": [],
      "source": [
        "first_name = str(input('Ingrese el primer nombre: '))\n",
        "last_name = str(input('Ingrese el apellido: '))\n",
        "\n",
        "full_name = f\"{first_name} {last_name}\"\n",
        "print(f\"Bienvenido {full_name}!\")\n"
      ]
    },
    {
      "cell_type": "code",
      "execution_count": null,
      "metadata": {
        "id": "9DXlUqRdHWpy"
      },
      "outputs": [],
      "source": [
        "print(f\"Hola, {full_name.title()}!\")"
      ]
    },
    {
      "cell_type": "code",
      "execution_count": null,
      "metadata": {
        "id": "ovwhbcW4HnNO"
      },
      "outputs": [],
      "source": [
        "message = f\"Hola, {full_name.title()}!\"\n",
        "print(message)"
      ]
    },
    {
      "cell_type": "code",
      "execution_count": null,
      "metadata": {
        "id": "d7c9EIszIADO"
      },
      "outputs": [],
      "source": [
        "print(\"Python\")"
      ]
    },
    {
      "cell_type": "code",
      "execution_count": null,
      "metadata": {
        "id": "ypepBjltTCHR"
      },
      "outputs": [],
      "source": [
        "print(\"Python's\")"
      ]
    },
    {
      "cell_type": "code",
      "execution_count": null,
      "metadata": {
        "id": "hGmARCyTH_8F"
      },
      "outputs": [],
      "source": [
        "print(\"\\tPython\")"
      ]
    },
    {
      "cell_type": "code",
      "execution_count": null,
      "metadata": {
        "id": "7sLWgXNbH_zY"
      },
      "outputs": [],
      "source": [
        "print(\"Languages:\\nPython\\nC\\nJavaScript\")"
      ]
    },
    {
      "cell_type": "code",
      "execution_count": null,
      "metadata": {
        "id": "GHwzRJQeIgCo"
      },
      "outputs": [],
      "source": [
        "print(\"Languages:\\n\\tPython\\n\\tC\\n\\tJavaScript\")"
      ]
    },
    {
      "cell_type": "markdown",
      "metadata": {
        "id": "uV4g9yt5It7q"
      },
      "source": [
        "### Espacios en python"
      ]
    },
    {
      "cell_type": "code",
      "execution_count": null,
      "metadata": {
        "id": "3WM1AbohIpnt"
      },
      "outputs": [],
      "source": [
        "favorite_language = 'python '\n",
        "favorite_language"
      ]
    },
    {
      "cell_type": "code",
      "execution_count": null,
      "metadata": {
        "id": "L465tOhkIqNd"
      },
      "outputs": [],
      "source": [
        "favorite_language.rstrip()"
      ]
    },
    {
      "cell_type": "code",
      "execution_count": null,
      "metadata": {
        "id": "7AFWklYBJzQ6"
      },
      "outputs": [],
      "source": [
        "favorite_language"
      ]
    },
    {
      "cell_type": "code",
      "execution_count": null,
      "metadata": {
        "id": "9fqYGKCRJk1R"
      },
      "outputs": [],
      "source": [
        "favorite_language = 'python '\n",
        "favorite_language = favorite_language.rstrip()\n",
        "favorite_language"
      ]
    },
    {
      "cell_type": "code",
      "execution_count": null,
      "metadata": {
        "id": "3uDiKbdIKI0M"
      },
      "outputs": [],
      "source": [
        "favorite_language = ' python '\n",
        "favorite_language"
      ]
    },
    {
      "cell_type": "code",
      "execution_count": null,
      "metadata": {
        "id": "FbVFEWqQKSwS"
      },
      "outputs": [],
      "source": [
        "favorite_language.rstrip()"
      ]
    },
    {
      "cell_type": "code",
      "execution_count": null,
      "metadata": {
        "id": "tE4HafwRKJx6"
      },
      "outputs": [],
      "source": [
        "favorite_language.lstrip()"
      ]
    },
    {
      "cell_type": "code",
      "execution_count": null,
      "metadata": {
        "id": "ZgZ9X5kgKJUS"
      },
      "outputs": [],
      "source": [
        "favorite_language.strip()"
      ]
    },
    {
      "cell_type": "markdown",
      "metadata": {
        "id": "RSYDstcmLdkD"
      },
      "source": [
        "### Problemas comunes"
      ]
    },
    {
      "cell_type": "code",
      "execution_count": null,
      "metadata": {
        "id": "Tm8cU1yqLc5M"
      },
      "outputs": [],
      "source": [
        "message = \"El libro 'Harry Potter' fue un best seller\"\n",
        "print(message)"
      ]
    },
    {
      "cell_type": "code",
      "execution_count": null,
      "metadata": {
        "id": "nxUO09lkNFuk"
      },
      "outputs": [],
      "source": [
        "message = 'One of Python's strengths is its diverse community.'\n",
        "print(message)"
      ]
    },
    {
      "cell_type": "markdown",
      "metadata": {
        "id": "cf-y9DtENQLY"
      },
      "source": [
        "### Números"
      ]
    },
    {
      "cell_type": "code",
      "execution_count": null,
      "metadata": {
        "id": "NU8oYEG9NPWl"
      },
      "outputs": [],
      "source": [
        "2 + 3"
      ]
    },
    {
      "cell_type": "code",
      "execution_count": null,
      "metadata": {
        "id": "UR4mC6E-Nbhw"
      },
      "outputs": [],
      "source": [
        "3 ** 2"
      ]
    },
    {
      "cell_type": "code",
      "execution_count": null,
      "metadata": {
        "id": "K_Gln-FfNeO9"
      },
      "outputs": [],
      "source": [
        "(2 + 3) * 4"
      ]
    },
    {
      "cell_type": "markdown",
      "metadata": {
        "id": "ubo6p0b-NhjD"
      },
      "source": [
        "### Floats"
      ]
    },
    {
      "cell_type": "code",
      "execution_count": null,
      "metadata": {
        "id": "RQxlR6oyNmoG"
      },
      "outputs": [],
      "source": [
        "0.1 + 0.1"
      ]
    },
    {
      "cell_type": "code",
      "execution_count": null,
      "metadata": {
        "id": "uWQ-911qNskj"
      },
      "outputs": [],
      "source": [
        "2 * 0.2"
      ]
    },
    {
      "cell_type": "code",
      "execution_count": null,
      "metadata": {
        "id": "BcImgVOtNySt"
      },
      "outputs": [],
      "source": [
        "0.2 + 0.1"
      ]
    },
    {
      "cell_type": "markdown",
      "metadata": {
        "id": "a_1vW_FNOIf5"
      },
      "source": [
        "### Enteros y Floats"
      ]
    },
    {
      "cell_type": "code",
      "execution_count": null,
      "metadata": {
        "id": "iN7X2ZWWOLFS"
      },
      "outputs": [],
      "source": [
        "4/2"
      ]
    },
    {
      "cell_type": "code",
      "execution_count": null,
      "metadata": {
        "id": "D9dA2ELhORGk"
      },
      "outputs": [],
      "source": [
        "1 + 2.0"
      ]
    },
    {
      "cell_type": "code",
      "execution_count": null,
      "metadata": {
        "id": "wwDLo_S_Vhpr"
      },
      "outputs": [],
      "source": [
        "1*3.0"
      ]
    },
    {
      "cell_type": "markdown",
      "metadata": {
        "id": "8ICC-mT0OsHE"
      },
      "source": [
        "### Guiones bajos en números"
      ]
    },
    {
      "cell_type": "code",
      "execution_count": null,
      "metadata": {
        "id": "9a4-mKc8OqI8"
      },
      "outputs": [],
      "source": [
        "universe_age = 14_000_000_000\n",
        "print(universe_age)"
      ]
    },
    {
      "cell_type": "markdown",
      "metadata": {
        "id": "53q3i_pyPEey"
      },
      "source": [
        "### Asignación Múltiple"
      ]
    },
    {
      "cell_type": "code",
      "execution_count": null,
      "metadata": {
        "id": "Tp7oXgPsWQzf"
      },
      "outputs": [],
      "source": [
        "a, b = 1, 2\n",
        "b"
      ]
    },
    {
      "cell_type": "code",
      "execution_count": null,
      "metadata": {
        "id": "jZIDGHQePh6B"
      },
      "outputs": [],
      "source": [
        "x, y, z = 0, 0, 0"
      ]
    },
    {
      "cell_type": "code",
      "execution_count": null,
      "metadata": {
        "id": "lQR7E1gtPiyR"
      },
      "outputs": [],
      "source": [
        "y"
      ]
    },
    {
      "cell_type": "markdown",
      "metadata": {
        "id": "pncAPB7TPruo"
      },
      "source": [
        "### Constantes"
      ]
    },
    {
      "cell_type": "code",
      "execution_count": null,
      "metadata": {
        "id": "AUR_RlTEPvZZ"
      },
      "outputs": [],
      "source": [
        "MAX_CONNECTIONS = 5000"
      ]
    },
    {
      "cell_type": "markdown",
      "metadata": {
        "id": "CpJsuNbVRKZ3"
      },
      "source": [
        "<b> Ejercicio </b>\n",
        "\n",
        "Usa una variable para representar un número. Luego, usando esa variable, cree un mensaje que revele su número. Imprime ese mensaje."
      ]
    },
    {
      "cell_type": "code",
      "execution_count": null,
      "metadata": {
        "id": "ODp_s9OloKfQ"
      },
      "outputs": [],
      "source": [
        "<"
      ]
    },
    {
      "cell_type": "markdown",
      "metadata": {
        "id": "jMC81ZCBTmJc"
      },
      "source": [
        "Doble-click __aquí__ para ver la solución.\n",
        "<!-- La respuesta es:\n",
        "num = 12\n",
        "print(f\"El número es {num}\")\n",
        "-->\n",
        "\n"
      ]
    },
    {
      "cell_type": "markdown",
      "metadata": {
        "id": "VAUMMfzqQ_OK"
      },
      "source": [
        "### Comentarios"
      ]
    },
    {
      "cell_type": "code",
      "execution_count": null,
      "metadata": {
        "id": "MHCgX32dOnPy"
      },
      "outputs": [],
      "source": [
        "# Código para saludar.\n",
        "print(\"Hola programadores de Python!\")"
      ]
    },
    {
      "cell_type": "markdown",
      "metadata": {
        "id": "XTsX-ps8mIBd"
      },
      "source": [
        "### El Zen de Python"
      ]
    },
    {
      "cell_type": "code",
      "execution_count": null,
      "metadata": {
        "id": "dB9VCvLST7Gp"
      },
      "outputs": [],
      "source": [
        "import this"
      ]
    },
    {
      "cell_type": "markdown",
      "metadata": {
        "id": "nsNQXu4ScwxS"
      },
      "source": [
        "### Introducción a listas"
      ]
    },
    {
      "cell_type": "code",
      "execution_count": null,
      "metadata": {
        "id": "ac3vjbHibA42"
      },
      "outputs": [],
      "source": [
        "a = ['John', 'Ricardo', 'Marcelo', 'Heidy', 'Nataly']\n",
        "a"
      ]
    },
    {
      "cell_type": "code",
      "execution_count": null,
      "metadata": {
        "id": "v4lFhW1sbg_2"
      },
      "outputs": [],
      "source": [
        "a = [1, 10, 4, 5, 99.0]\n",
        "a"
      ]
    },
    {
      "cell_type": "code",
      "execution_count": null,
      "metadata": {
        "id": "pz_NpJO6brs0"
      },
      "outputs": [],
      "source": [
        "a = [1, 10, 4, 5, 'Nataly']\n",
        "a"
      ]
    },
    {
      "cell_type": "code",
      "execution_count": null,
      "metadata": {
        "id": "0ufNgmA_b0M4"
      },
      "outputs": [],
      "source": [
        "a = [1, 10, 4, 5, None]\n",
        "a"
      ]
    },
    {
      "cell_type": "code",
      "execution_count": null,
      "metadata": {
        "id": "h35YXpuwb8ao"
      },
      "outputs": [],
      "source": [
        "a = [1, 10, 4, 5, [2, 3, 8]]\n",
        "a"
      ]
    },
    {
      "cell_type": "code",
      "execution_count": null,
      "metadata": {
        "id": "PQTHxd5qcLbF"
      },
      "outputs": [],
      "source": [
        "a[0]"
      ]
    },
    {
      "cell_type": "code",
      "execution_count": null,
      "metadata": {
        "id": "ePpVwfRzcadx"
      },
      "outputs": [],
      "source": [
        "a[3]"
      ]
    },
    {
      "cell_type": "code",
      "execution_count": null,
      "metadata": {
        "id": "NDzQJNJHckjd"
      },
      "outputs": [],
      "source": [
        "a[4][1]"
      ]
    },
    {
      "cell_type": "markdown",
      "metadata": {
        "id": "AR6JaCmmRB6V"
      },
      "source": [
        "# 2. Sentencias IF"
      ]
    },
    {
      "cell_type": "code",
      "execution_count": null,
      "metadata": {
        "id": "GY71b_kGmTAl"
      },
      "outputs": [],
      "source": [
        "cars = ['audi', 'bmw', 'subaru', 'toyota']\n",
        "\n",
        "for car in cars:\n",
        "  if car == 'bmw':\n",
        "    print(car.upper())\n",
        "  else:\n",
        "    print(car.title())"
      ]
    },
    {
      "cell_type": "markdown",
      "metadata": {
        "id": "NhyOyyLtnaLV"
      },
      "source": [
        "### Igualdades"
      ]
    },
    {
      "cell_type": "code",
      "execution_count": null,
      "metadata": {
        "id": "YZkf5aLHmhde"
      },
      "outputs": [],
      "source": [
        "1 = 2"
      ]
    },
    {
      "cell_type": "code",
      "execution_count": null,
      "metadata": {
        "id": "qi5sJLuUmR0m"
      },
      "outputs": [],
      "source": [
        "1 == 2"
      ]
    },
    {
      "cell_type": "code",
      "execution_count": null,
      "metadata": {
        "id": "8T_pNL9gmoT8"
      },
      "outputs": [],
      "source": [
        "2 == 2"
      ]
    },
    {
      "cell_type": "code",
      "execution_count": null,
      "metadata": {
        "id": "hSQ9bC3Vmy96"
      },
      "outputs": [],
      "source": [
        "2 == 2.0"
      ]
    },
    {
      "cell_type": "code",
      "execution_count": null,
      "metadata": {
        "id": "PukwJABJm1rP"
      },
      "outputs": [],
      "source": [
        "car = 'bmw'\n",
        "car == 'bmw'"
      ]
    },
    {
      "cell_type": "code",
      "execution_count": null,
      "metadata": {
        "id": "cz5ibI_Wm9lq"
      },
      "outputs": [],
      "source": [
        "car = 'audi'\n",
        "car == 'bmw'"
      ]
    },
    {
      "cell_type": "markdown",
      "metadata": {
        "id": "yEggshtHom4j"
      },
      "source": [
        "Ignorando Mayusculas en igualdades"
      ]
    },
    {
      "cell_type": "code",
      "execution_count": null,
      "metadata": {
        "id": "2tLQKu9KnLC3"
      },
      "outputs": [],
      "source": [
        "car = 'Audi'\n",
        "car == 'audi'"
      ]
    },
    {
      "cell_type": "code",
      "execution_count": null,
      "metadata": {
        "id": "VFNGrgdfnZPK"
      },
      "outputs": [],
      "source": [
        "car.lower()"
      ]
    },
    {
      "cell_type": "code",
      "execution_count": null,
      "metadata": {
        "id": "8SDmobRZnNsl"
      },
      "outputs": [],
      "source": [
        "car.upper()"
      ]
    },
    {
      "cell_type": "code",
      "execution_count": null,
      "metadata": {
        "id": "WOnmTIX9m3IQ"
      },
      "outputs": [],
      "source": [
        "car = 'Audi'\n",
        "car.lower() == 'audi'"
      ]
    },
    {
      "cell_type": "markdown",
      "metadata": {
        "id": "QJzj1X6undzm"
      },
      "source": [
        "### Desigualdades"
      ]
    },
    {
      "cell_type": "code",
      "execution_count": null,
      "metadata": {
        "id": "9u0Sho8vno-g"
      },
      "outputs": [],
      "source": [
        "1 != 2"
      ]
    },
    {
      "cell_type": "code",
      "execution_count": null,
      "metadata": {
        "id": "EADKhXulntOP"
      },
      "outputs": [],
      "source": [
        "'Audi' != 'audi'"
      ]
    },
    {
      "cell_type": "code",
      "execution_count": null,
      "metadata": {
        "id": "lRCCtFKBnweq"
      },
      "outputs": [],
      "source": [
        "2 != 2.0"
      ]
    },
    {
      "cell_type": "code",
      "execution_count": null,
      "metadata": {
        "id": "4x_KuchGnhHR"
      },
      "outputs": [],
      "source": [
        "requested_topping = 'champiñones'\n",
        "\n",
        "if requested_topping != 'Anchoas':\n",
        "  print(\"Sostén las Anchoas!\")\n"
      ]
    },
    {
      "cell_type": "markdown",
      "metadata": {
        "id": "9hZEAyQNpIDq"
      },
      "source": [
        "### Comparar Números"
      ]
    },
    {
      "cell_type": "code",
      "execution_count": null,
      "metadata": {
        "id": "TkAawBSMpHmN"
      },
      "outputs": [],
      "source": [
        "age = 18\n",
        "age == 18"
      ]
    },
    {
      "cell_type": "code",
      "execution_count": null,
      "metadata": {
        "id": "cuh3qVzEp14h"
      },
      "outputs": [],
      "source": [
        "answer = 17\n",
        "\n",
        "if answer != 42:\n",
        "  print(\"Respuesta incorrecta, intenta nuevamente!\")"
      ]
    },
    {
      "cell_type": "code",
      "execution_count": null,
      "metadata": {
        "id": "Q8P2FyvworiB"
      },
      "outputs": [],
      "source": [
        "answer = int(input('Ingrese su respuesta: '))\n",
        "\n",
        "if answer != 42:\n",
        "  print(\"Respuesta incorrecta, intenta nuevamente!\")"
      ]
    },
    {
      "cell_type": "code",
      "execution_count": null,
      "metadata": {
        "id": "BSGJ9oNEqCOj"
      },
      "outputs": [],
      "source": [
        "age = 19\n",
        "age < 21"
      ]
    },
    {
      "cell_type": "code",
      "execution_count": null,
      "metadata": {
        "id": "wf3dMEHIqGh-"
      },
      "outputs": [],
      "source": [
        "age <= 21"
      ]
    },
    {
      "cell_type": "code",
      "execution_count": null,
      "metadata": {
        "id": "ALtGWaW_qIEG"
      },
      "outputs": [],
      "source": [
        "age > 21"
      ]
    },
    {
      "cell_type": "code",
      "execution_count": null,
      "metadata": {
        "id": "U-sv2_SKqJ3T"
      },
      "outputs": [],
      "source": [
        "age >= 21"
      ]
    },
    {
      "cell_type": "markdown",
      "metadata": {
        "id": "Ul7K_VXA69Hg"
      },
      "source": [
        "### Condicionales múltiples"
      ]
    },
    {
      "cell_type": "code",
      "execution_count": null,
      "metadata": {
        "id": "fPhw2J5U7Fgs"
      },
      "outputs": [],
      "source": [
        "age_0 = 22\n",
        "age_1 = 18\n",
        "age_0 >= 21 and age_1 >= 21"
      ]
    },
    {
      "cell_type": "code",
      "execution_count": null,
      "metadata": {
        "id": "vxSjikcs7zkf"
      },
      "outputs": [],
      "source": [
        "age_1 = 22\n",
        "age_0 >= 21 and age_1 >= 21"
      ]
    },
    {
      "cell_type": "code",
      "execution_count": null,
      "metadata": {
        "id": "4sdZ7nWN75LC"
      },
      "outputs": [],
      "source": [
        "(age_0 >= 21) and (age_1 >= 21)"
      ]
    },
    {
      "cell_type": "code",
      "execution_count": null,
      "metadata": {
        "id": "I_gV0j1n8NJA"
      },
      "outputs": [],
      "source": [
        "age_0 = 22\n",
        "age_1 = 18\n",
        "age_0 >= 21 or age_1 >= 21"
      ]
    },
    {
      "cell_type": "code",
      "execution_count": null,
      "metadata": {
        "id": "OutmfEzZ-9jQ"
      },
      "outputs": [],
      "source": [
        "age_0 = 18\n",
        "age_0 >= 21 or age_1 >= 21"
      ]
    },
    {
      "cell_type": "markdown",
      "metadata": {
        "id": "DAVP6_vn_Gn2"
      },
      "source": [
        "### Comprobar si un valor está en una lista"
      ]
    },
    {
      "cell_type": "code",
      "execution_count": null,
      "metadata": {
        "id": "BqPNTASrqwr9"
      },
      "outputs": [],
      "source": [
        "lenguages = ['R', 'Python', 'C']\n",
        "lenguages"
      ]
    },
    {
      "cell_type": "code",
      "execution_count": null,
      "metadata": {
        "id": "Hd3CcNr6_LRi"
      },
      "outputs": [],
      "source": [
        "lenguages = ['R', 'Python', 'C']\n",
        "'Python' in lenguages"
      ]
    },
    {
      "cell_type": "code",
      "execution_count": null,
      "metadata": {
        "id": "gi6lorHh_PXp"
      },
      "outputs": [],
      "source": [
        "'Java' in lenguages"
      ]
    },
    {
      "cell_type": "markdown",
      "metadata": {
        "id": "izmw4aHktdm_"
      },
      "source": [
        "### Comprobar si un valor no está en una lista"
      ]
    },
    {
      "cell_type": "code",
      "execution_count": null,
      "metadata": {
        "id": "j46TpHdStrRZ"
      },
      "outputs": [],
      "source": [
        "banned_users = ['andrew', 'carolina', 'david']\n",
        "user = 'marie'\n",
        "\n",
        "if user not in banned_users:\n",
        "  print(f\"{user.title()}, no se encuentra en la lista de no deseados.\")"
      ]
    },
    {
      "cell_type": "code",
      "execution_count": null,
      "metadata": {
        "id": "QdQVnRaurOSY"
      },
      "outputs": [],
      "source": [
        "banned_users = ['andrew', 'carolina', 'david']\n",
        "user = str(input('Escriba su primer nombre '))\n",
        "\n",
        "if user not in banned_users:\n",
        "  print(f\"{user.title()}, no se encuentra en la lista de no deseados.\")"
      ]
    },
    {
      "cell_type": "code",
      "execution_count": null,
      "metadata": {
        "id": "M8odBorDrs_P"
      },
      "outputs": [],
      "source": [
        "a = int(input('escribe un número: '))"
      ]
    },
    {
      "cell_type": "code",
      "execution_count": null,
      "metadata": {
        "id": "NkGEwRFJsLf_"
      },
      "outputs": [],
      "source": [
        "a"
      ]
    },
    {
      "cell_type": "markdown",
      "metadata": {
        "id": "VuE2syKZt2yQ"
      },
      "source": [
        "### Condicionales"
      ]
    },
    {
      "cell_type": "code",
      "execution_count": null,
      "metadata": {
        "id": "rQUWREUEt16h"
      },
      "outputs": [],
      "source": [
        "game_active = True\n",
        "can_edit = False"
      ]
    },
    {
      "cell_type": "code",
      "execution_count": null,
      "metadata": {
        "id": "SBZqQdhluO0S"
      },
      "outputs": [],
      "source": [
        "car = 'subaru'\n",
        "print(\"Is car == 'subaru'? I predict True.\")\n",
        "print(car == 'subaru')\n",
        "\n",
        "print(\"\\nIs car == 'audi'? I predict False.\")\n",
        "print(car == 'audi')"
      ]
    },
    {
      "cell_type": "markdown",
      "metadata": {
        "id": "Ytw_L2R5mQlw"
      },
      "source": [
        "### Sentencias simples con IF"
      ]
    },
    {
      "cell_type": "code",
      "execution_count": null,
      "metadata": {
        "id": "Ju_Xf1CqvTYk"
      },
      "outputs": [],
      "source": [
        "age = 19\n",
        "if age >= 18:\n",
        "  print(\"Ya tienes edad suficiente para votar!\")"
      ]
    },
    {
      "cell_type": "code",
      "execution_count": null,
      "metadata": {
        "id": "adkHe7g5vj0R"
      },
      "outputs": [],
      "source": [
        "age = 19\n",
        "if age >= 18:\n",
        "  print(\"Ya tienes edad suficiente para votar!\")\n",
        "  print(\"Todavía no te has registrado?\")"
      ]
    },
    {
      "cell_type": "markdown",
      "metadata": {
        "id": "V3FACa5Mv5vv"
      },
      "source": [
        "### Sentencias else-IF"
      ]
    },
    {
      "cell_type": "code",
      "execution_count": null,
      "metadata": {
        "id": "_TU6P_Ehv5Pe"
      },
      "outputs": [],
      "source": [
        "age = 17\n",
        "if age >= 18:\n",
        "  print(\"Ya tienes edad suficiente para votar!\")\n",
        "  print(\"Todavía no te has registrado?\")\n",
        "else:\n",
        "  print(\"Lo sentimos, eres muy joven para votar!\")\n",
        "  print(\"Por favor registrate cuando cumplas 18!\")"
      ]
    },
    {
      "cell_type": "code",
      "execution_count": null,
      "metadata": {
        "id": "_iVAhpxgwDeI"
      },
      "outputs": [],
      "source": [
        "age = 12\n",
        "\n",
        "if age < 4:\n",
        "  print(\"Your admission cost is $0.\")\n",
        "elif age < 18:\n",
        "  print(\"Your admission cost is $25.\")\n",
        "else:\n",
        "  print(\"Your admission cost is $40.\")"
      ]
    },
    {
      "cell_type": "code",
      "execution_count": null,
      "metadata": {
        "id": "3t0oLWYh8nvN"
      },
      "outputs": [],
      "source": [
        "age = 12\n",
        "\n",
        "if age < 4:\n",
        "  price = 0\n",
        "elif age < 18:\n",
        "  price = 25\n",
        "else:\n",
        "  price = 40\n",
        "\n",
        "print(f\"Your admission cost is ${price}.\")\n"
      ]
    },
    {
      "cell_type": "markdown",
      "metadata": {
        "id": "J4M0xWQD85AW"
      },
      "source": [
        "### Múltiples bloques"
      ]
    },
    {
      "cell_type": "code",
      "execution_count": null,
      "metadata": {
        "id": "i8L7x2LEvz4Y"
      },
      "outputs": [],
      "source": [
        "age = 12\n",
        "\n",
        "if age < 4:\n",
        "  price = 0\n",
        "elif age < 18:\n",
        "  price = 25\n",
        "elif age < 65:\n",
        "  price = 40\n",
        "else:\n",
        "  price = 20\n",
        "\n",
        "print(f\"Your admission cost is ${price}.\")"
      ]
    },
    {
      "cell_type": "markdown",
      "metadata": {
        "id": "JsTUAkF89QmD"
      },
      "source": [
        "### Ignorando el bloque else"
      ]
    },
    {
      "cell_type": "code",
      "execution_count": null,
      "metadata": {
        "id": "_nimoq4F9XHY"
      },
      "outputs": [],
      "source": [
        "age = 12\n",
        "\n",
        "if age < 4:\n",
        "  price = 0\n",
        "elif age < 18:\n",
        "  price = 25\n",
        "elif age < 65:\n",
        "  price = 40\n",
        "elif age >= 65:\n",
        "  price = 20\n",
        "\n",
        "print(f\"Your admission cost is ${price}.\")\n"
      ]
    },
    {
      "cell_type": "markdown",
      "metadata": {
        "id": "_8dO4jjn-Ga_"
      },
      "source": [
        "### Probando múltiples condiciones"
      ]
    },
    {
      "cell_type": "code",
      "execution_count": null,
      "metadata": {
        "id": "WVSk663p9qhJ"
      },
      "outputs": [],
      "source": [
        "requested_toppings = ['mushrooms', 'extra cheese']\n",
        "\n",
        "if 'mushrooms' in requested_toppings:\n",
        "  print(\"Adding mushrooms.\")\n",
        "if 'pepperoni' in requested_toppings:\n",
        "  print(\"Adding pepperoni.\")\n",
        "if 'extra cheese' in requested_toppings:\n",
        "  print(\"Adding extra cheese.\")\n",
        "\n",
        "print(\"\\nFinished making your pizza!\")"
      ]
    },
    {
      "cell_type": "code",
      "execution_count": null,
      "metadata": {
        "id": "gfZbhzLN7ptc"
      },
      "outputs": [],
      "source": [
        "num1 = float(input('Ingrese el primer número: '))\n",
        "num2 = float(input('Ingrese el segundo número: '))\n",
        "\n",
        "if num1 > num2:\n",
        "  print('num1 es mayor')\n",
        "else:\n",
        "  print('num2 es mayor')"
      ]
    },
    {
      "cell_type": "markdown",
      "metadata": {
        "id": "Y-WZOmge-ddV"
      },
      "source": [
        "<b> Ejercicio 1</b>\n",
        "\n",
        "Imagina que un extraterrestre acaba de ser derribado en un juego. Cree una variable llamada alien_color y asígnele un valor de 'verde', 'amarillo' o 'rojo'.\n",
        "\n",
        "Escribe una declaración if para probar si el color del extraterrestre es verde. Si es así, imprime un mensaje de que el jugador acaba de ganar 5 puntos."
      ]
    },
    {
      "cell_type": "code",
      "source": [
        "print(\"Juego de extraterrestre\")\n",
        "alien_color = 'verde'\n",
        "if alien_color == 'verde':\n",
        "  print (f\"{alien_color}, acaba de ganar 5 puntos.\")\n",
        "\n",
        "\n"
      ],
      "metadata": {
        "colab": {
          "base_uri": "https://localhost:8080/"
        },
        "id": "3qWJjc8ezcdy",
        "outputId": "e5b28e0c-e852-4bc6-a1d9-2b3ed59fa116"
      },
      "execution_count": null,
      "outputs": [
        {
          "output_type": "stream",
          "name": "stdout",
          "text": [
            "juego de extraterrestre\n",
            "verde, acaba de ganar 5 puntos.\n"
          ]
        }
      ]
    },
    {
      "cell_type": "markdown",
      "metadata": {
        "id": "fe2t6tUu-_sX"
      },
      "source": [
        "<b> Ejercicio 2</b>\n",
        "\n",
        "Elija un color para un extraterrestre como lo hizo en el Ejercicio anterior y escriba una cadena if-else.\n",
        "\n",
        "Si el alienígena es verde, imprime un mensaje de que el jugador obtuvo 5 puntos.\n",
        "Si el alienígena es amarillo, imprime un mensaje de que el jugador obtuvo 10 puntos.\n",
        "Si el alienígena es rojo, imprime un mensaje de que el jugador obtuvo 15 puntos."
      ]
    },
    {
      "cell_type": "code",
      "source": [
        "print(\"Juego de alienígenas\")\n",
        "alien_color =input(\"ingrese el color del extraterrestre\")\n",
        "if alien_color == 'verde': \n",
        "  print(\"usted obtuvo 5 puntos\")\n",
        "elif alien_color == 'amarillo':\n",
        "  print(\"usted obtuvo 10 puntos\")\n",
        "elif alien_color == 'rojo':\n",
        "  print(\"usted obtuvo 15 puntos\")\n",
        "else:\n",
        "  print(\"Incorrecto, ingrese 'Verde', 'Amarillo' o 'Rojo' para ganar.\")\n"
      ],
      "metadata": {
        "id": "u98_zYXGImvD"
      },
      "execution_count": null,
      "outputs": []
    },
    {
      "cell_type": "markdown",
      "metadata": {
        "id": "tQ7O2WPW_uWn"
      },
      "source": [
        "# Sentencias While"
      ]
    },
    {
      "cell_type": "code",
      "execution_count": null,
      "metadata": {
        "id": "FGmYSyUY9P1a"
      },
      "outputs": [],
      "source": [
        "current_number = 1\n",
        "while current_number <= 5:\n",
        "    print(current_number)\n",
        "    current_number += 1"
      ]
    },
    {
      "cell_type": "code",
      "execution_count": null,
      "metadata": {
        "id": "cdDL7YMjCSIf"
      },
      "outputs": [],
      "source": [
        "prompt = \"\\nDime algo y lo repetire:\"\n",
        "prompt += \"\\nEscribe 'quit' para finalizar. \"\n",
        "\n",
        "message = \"\"\n",
        "while message != 'salir':\n",
        "  message = input(prompt)\n",
        "  print(message)"
      ]
    },
    {
      "cell_type": "markdown",
      "metadata": {
        "id": "2csEiLu2DJUI"
      },
      "source": [
        "### Usado una constante"
      ]
    },
    {
      "cell_type": "code",
      "execution_count": null,
      "metadata": {
        "id": "8T4IvpXNDHgd"
      },
      "outputs": [],
      "source": [
        "active = True\n",
        "while active:\n",
        "  message = input(prompt)\n",
        "\n",
        "  if message == 'salir':\n",
        "    active = False\n",
        "  else:\n",
        "    print(message)"
      ]
    },
    {
      "cell_type": "markdown",
      "metadata": {
        "id": "n_eoK86YDid8"
      },
      "source": [
        "### Break"
      ]
    },
    {
      "cell_type": "code",
      "execution_count": null,
      "metadata": {
        "id": "6Mu2Mu6EDn22"
      },
      "outputs": [],
      "source": [
        "while True:\n",
        "       city = input(prompt)\n",
        "\n",
        "       if city == 'salir':\n",
        "           break\n",
        "       else:\n",
        "           print(f\"Me encantaría ir a {city.title()}!\")"
      ]
    },
    {
      "cell_type": "markdown",
      "metadata": {
        "id": "ritP2QOiD344"
      },
      "source": [
        "### Continue"
      ]
    },
    {
      "cell_type": "code",
      "execution_count": null,
      "metadata": {
        "id": "yYFFKYJwD74o"
      },
      "outputs": [],
      "source": [
        "current_number = 0\n",
        "\n",
        "while current_number < 10:\n",
        "  current_number += 1\n",
        "  if current_number % 2 == 0:\n",
        "    continue\n",
        "  print(current_number)"
      ]
    },
    {
      "cell_type": "markdown",
      "metadata": {
        "id": "YHli8JqnEsX6"
      },
      "source": [
        "### Evitando Loops infinitos"
      ]
    },
    {
      "cell_type": "code",
      "execution_count": null,
      "metadata": {
        "id": "Eof0p3NkExEN"
      },
      "outputs": [],
      "source": [
        "x = 1\n",
        "while x <= 5:\n",
        "    print(x)\n",
        "    x += 1"
      ]
    },
    {
      "cell_type": "code",
      "execution_count": null,
      "metadata": {
        "id": "QxCazgC8E1A7"
      },
      "outputs": [],
      "source": [
        "# This loop runs forever!\n",
        "x = 1\n",
        "while x <= 5:\n",
        "    print(x)"
      ]
    },
    {
      "cell_type": "markdown",
      "metadata": {
        "id": "NzzH8uoCFAMM"
      },
      "source": [
        "<b> Ejercicio 1</b>\n",
        "\n",
        "Escriba un ciclo que solicite al usuario que ingrese una serie de ingredientes para la pizza hasta que ingrese un valor de 'salir'. A medida que ingresen cada ingrediente, imprima un mensaje que diga que agregará ese ingrediente a su pizza."
      ]
    },
    {
      "cell_type": "code",
      "source": [
        "print(\"Bienvenido a la pizzeria Peruviano.\")\n",
        "prompt = \"\"\"Elige un ingrediente para tu pizza:\n",
        "     1- orégano\n",
        "     2- pimiento\n",
        "     3- mozzarella\"\"\"\n",
        "prompt += \"\\nescribe 'Salir' cuando termine\"\n",
        "\n",
        "while True:\n",
        "  opcion = input(prompt)\n",
        "\n",
        "  if opcion =='salir':\n",
        "    break\n",
        "\n",
        "  if opcion == '1':\n",
        "    print (\"Has seleccionado, orégano\")\n",
        "  elif opcion == '2':\n",
        "    print (\"Has seleccionado, pimiento\")\n",
        "  elif opcion == '3':\n",
        "    print (\"Has seleccionado, mozzarella\")\n",
        "  else:\n",
        "    print (\"Debes selecionar una opcion (1, 2 o 3)\")\n",
        "  \n",
        "\n",
        "  \n",
        "\n",
        "    \n"
      ],
      "metadata": {
        "id": "ZrXne3H_nU_d"
      },
      "execution_count": null,
      "outputs": []
    },
    {
      "cell_type": "markdown",
      "metadata": {
        "id": "ATFL1LTaFDoF"
      },
      "source": [
        "<b> Ejercicio 2</b>\n",
        "\n",
        "Un cine cobra diferentes precios de boletos dependiendo de la edad de una persona. Si una persona es menor de 3 años, la entrada es gratuita; si son entre 3 y 12, el boleto cuesta s/. 10; y si son mayores de 12 años, el boleto cuesta s/. 15. Escriba un ciclo en el que pregunte a los usuarios su edad y luego dígales el costo de su boleto de cine."
      ]
    },
    {
      "cell_type": "code",
      "source": [
        "prompt = \"¿cuantos años tienes?\"\n",
        "prompt += \"\\nY escribe 'salir' cuando termine\"\n",
        "\n",
        "while True:\n",
        "  age = input(prompt)\n",
        "  \n",
        "  if age == 'salir':\n",
        "    break\n",
        "  age = int(age)\n",
        "  if age < 3:\n",
        "    print(\"entrada gratuita\")\n",
        "  elif 3 < age < 12: \n",
        "    print(\"tu boleto cuesta S/.10\")\n",
        "  else:\n",
        "    print(\"tu boleto cuesta S/.15\")"
      ],
      "metadata": {
        "id": "xyYNo8ppzltd"
      },
      "execution_count": null,
      "outputs": []
    },
    {
      "cell_type": "markdown",
      "metadata": {
        "id": "wGafafRIF6Bz"
      },
      "source": [
        "# 3. Sentencia For"
      ]
    },
    {
      "cell_type": "code",
      "execution_count": null,
      "metadata": {
        "id": "xh9IzPvpGddX"
      },
      "outputs": [],
      "source": [
        "magicians = ['alice', 'david', 'carolina']\n",
        "for magician in magicians:\n",
        "  print(f\"{magician.title()}, that was a great trick!\")"
      ]
    },
    {
      "cell_type": "code",
      "execution_count": null,
      "metadata": {
        "id": "iZaVoq2xGlt0"
      },
      "outputs": [],
      "source": [
        "magicians = ['alice', 'david', 'carolina']\n",
        "for magician in magicians:\n",
        "  print(f\"{magician.title()}, that was a great trick!\")\n",
        "  print(f\"I can't wait to see your next trick, {magician.title()}.\\n\")"
      ]
    },
    {
      "cell_type": "code",
      "execution_count": null,
      "metadata": {
        "id": "_fm04h69G6nm"
      },
      "outputs": [],
      "source": [
        "magicians = ['alice', 'david', 'carolina']\n",
        "\n",
        "for magician in magicians:\n",
        "    print(f\"{magician.title()}, that was a great trick!\")\n",
        "    print(f\"I can't wait to see your next trick, {magician.title()}.\\n\")\n",
        "\n",
        "print(\"Thank you, everyone. That was a great magic show!\")"
      ]
    },
    {
      "cell_type": "markdown",
      "metadata": {
        "id": "C1qC64EEHDM-"
      },
      "source": [
        "### Olvidando la identación"
      ]
    },
    {
      "cell_type": "code",
      "execution_count": null,
      "metadata": {
        "id": "eZ2wML7nHH5i"
      },
      "outputs": [],
      "source": [
        "magicians = ['alice', 'david', 'carolina']\n",
        "for magician in magicians:\n",
        "print(magician)"
      ]
    },
    {
      "cell_type": "markdown",
      "metadata": {
        "id": "FHwT_HI5Hedh"
      },
      "source": [
        "<b> Ejercicio 1</b>\n",
        "\n",
        "\n",
        "Piensa en al menos tres tipos de tu pizza favorita. Almacene estos nombres de pizza en una lista y luego use un ciclo for para imprimir el nombre de cada pizza.\n",
        "\n",
        "Modifique su ciclo for para imprimir una oración usando el nombre de la pizza en lugar de imprimir solo el nombre de la pizza. Para cada pizza, debe tener una línea de salida que contenga una declaración simple como Me gusta la pizza de pepperoni.\n",
        "Agregue una línea al final de su programa, fuera del bucle for, que indique cuánto le gusta la pizza. El resultado debe constar de tres o más líneas sobre los tipos de pizza que te gustan y luego una oración adicional, como ¡Me encanta la pizza!\n"
      ]
    },
    {
      "cell_type": "code",
      "source": [
        "lista = ['pizza americana', 'pizza hawaiana', 'pizza pepperoni']\n",
        "for list in lista:\n",
        "  print (list)"
      ],
      "metadata": {
        "id": "U-RGfmmxAOj1"
      },
      "execution_count": null,
      "outputs": []
    },
    {
      "cell_type": "code",
      "source": [
        "lista = ['pizza americana', 'pizza hawaiana', 'pizza pepperoni']\n",
        "for list in lista:\n",
        "  print (f\"Me gusta la {list.title()}!\\n\")\n",
        "\n",
        "print (\"En pocas palabras me encanta la pizza!\")\n"
      ],
      "metadata": {
        "id": "RFoxkW4SHKLF"
      },
      "execution_count": null,
      "outputs": []
    },
    {
      "cell_type": "markdown",
      "metadata": {
        "id": "CBNrK6wXHnEm"
      },
      "source": [
        "<b> Ejercicio 2</b>\n",
        "\n",
        "Piensa en al menos tres animales diferentes que tengan una característica común. Guarde los nombres de estos animales en una lista y luego use un ciclo for para imprimir el nombre de cada animal.\n",
        "\n",
        "Modifique su programa para imprimir una declaración sobre cada animal, como Un perro sería una gran mascota.\n",
        "Agregue una línea al final de su programa indicando lo que estos animales tienen en común. Podría escribir una oración como ¡Cualquiera de estos animales sería una gran mascota!"
      ]
    },
    {
      "cell_type": "code",
      "source": [
        "lista = ['canguro', 'elefante', 'caballo']\n",
        "for list in lista:\n",
        "  print (list.title())\n",
        "  "
      ],
      "metadata": {
        "id": "nV2xMUS_SFj9"
      },
      "execution_count": null,
      "outputs": []
    },
    {
      "cell_type": "code",
      "source": [
        "lista = ['el canguro', 'el elefante', 'el caballo']\n",
        "for list in lista:\n",
        "  print (f\"{list.title()}, es un animal impresionante\\n\")\n",
        "\n",
        "print (f\"Cualquiera de estos animales son hervivoros!\")\n"
      ],
      "metadata": {
        "id": "wCz3n1SLUApV"
      },
      "execution_count": null,
      "outputs": []
    },
    {
      "cell_type": "markdown",
      "metadata": {
        "id": "Z8TPfkHyH_D5"
      },
      "source": [
        "---\n",
        "\n",
        "# Gracias por completar este laboratorio!\n",
        "\n",
        "---\n"
      ]
    }
  ],
  "metadata": {
    "colab": {
      "provenance": [],
      "collapsed_sections": [],
      "include_colab_link": true
    },
    "kernelspec": {
      "display_name": "Python 3",
      "name": "python3"
    },
    "language_info": {
      "name": "python"
    }
  },
  "nbformat": 4,
  "nbformat_minor": 0
}